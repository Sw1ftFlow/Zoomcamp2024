{
 "cells": [
  {
   "cell_type": "code",
   "execution_count": 1,
   "id": "aeccb9a4-fb4f-42d2-9664-5c4b2aad3f40",
   "metadata": {},
   "outputs": [
    {
     "name": "stdout",
     "output_type": "stream",
     "text": [
      "Hello World in codespaces\n"
     ]
    }
   ],
   "source": [
    "print('Hello World in codespaces')"
   ]
  },
  {
   "cell_type": "code",
   "execution_count": null,
   "id": "db0a1dd9-4917-4b31-aaaa-fb103b2b726f",
   "metadata": {},
   "outputs": [],
   "source": []
  }
 ],
 "metadata": {
  "kernelspec": {
   "display_name": "Python 3 (ipykernel)",
   "language": "python",
   "name": "python3"
  },
  "language_info": {
   "codemirror_mode": {
    "name": "ipython",
    "version": 3
   },
   "file_extension": ".py",
   "mimetype": "text/x-python",
   "name": "python",
   "nbconvert_exporter": "python",
   "pygments_lexer": "ipython3",
   "version": "3.12.1"
  }
 },
 "nbformat": 4,
 "nbformat_minor": 5
}
